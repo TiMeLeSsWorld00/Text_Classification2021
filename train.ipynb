{
 "cells": [
  {
   "cell_type": "code",
   "execution_count": 32,
   "id": "f5230753",
   "metadata": {},
   "outputs": [],
   "source": [
    "import numpy as np\n",
    "import pandas as pd\n",
    "from sklearn.model_selection import train_test_split\n",
    "from sklearn.feature_extraction.text import TfidfVectorizer\n",
    "from sklearn.linear_model import LogisticRegression\n",
    "from sklearn.metrics import classification_report\n",
    "from sklearn import svm, datasets, linear_model\n",
    "from sklearn.model_selection import GridSearchCV, cross_val_score\n",
    "import seaborn as sns\n",
    "import nltk\n",
    "from nltk.tokenize import word_tokenize\n",
    "from nltk.corpus import stopwords\n",
    "from nltk.stem import PorterStemmer\n",
    "import matplotlib.pyplot as plt\n",
    "import re"
   ]
  },
  {
   "cell_type": "code",
   "execution_count": 33,
   "id": "3cff08e0",
   "metadata": {},
   "outputs": [
    {
     "data": {
      "text/html": [
       "<div>\n",
       "<style scoped>\n",
       "    .dataframe tbody tr th:only-of-type {\n",
       "        vertical-align: middle;\n",
       "    }\n",
       "\n",
       "    .dataframe tbody tr th {\n",
       "        vertical-align: top;\n",
       "    }\n",
       "\n",
       "    .dataframe thead th {\n",
       "        text-align: right;\n",
       "    }\n",
       "</style>\n",
       "<table border=\"1\" class=\"dataframe\">\n",
       "  <thead>\n",
       "    <tr style=\"text-align: right;\">\n",
       "      <th></th>\n",
       "      <th>id</th>\n",
       "      <th>keyword</th>\n",
       "      <th>location</th>\n",
       "      <th>text</th>\n",
       "      <th>target</th>\n",
       "    </tr>\n",
       "  </thead>\n",
       "  <tbody>\n",
       "    <tr>\n",
       "      <th>0</th>\n",
       "      <td>1</td>\n",
       "      <td>NaN</td>\n",
       "      <td>NaN</td>\n",
       "      <td>Our Deeds are the Reason of this #earthquake M...</td>\n",
       "      <td>1</td>\n",
       "    </tr>\n",
       "    <tr>\n",
       "      <th>1</th>\n",
       "      <td>4</td>\n",
       "      <td>NaN</td>\n",
       "      <td>NaN</td>\n",
       "      <td>Forest fire near La Ronge Sask. Canada</td>\n",
       "      <td>1</td>\n",
       "    </tr>\n",
       "    <tr>\n",
       "      <th>2</th>\n",
       "      <td>5</td>\n",
       "      <td>NaN</td>\n",
       "      <td>NaN</td>\n",
       "      <td>All residents asked to 'shelter in place' are ...</td>\n",
       "      <td>1</td>\n",
       "    </tr>\n",
       "    <tr>\n",
       "      <th>3</th>\n",
       "      <td>6</td>\n",
       "      <td>NaN</td>\n",
       "      <td>NaN</td>\n",
       "      <td>13,000 people receive #wildfires evacuation or...</td>\n",
       "      <td>1</td>\n",
       "    </tr>\n",
       "    <tr>\n",
       "      <th>4</th>\n",
       "      <td>7</td>\n",
       "      <td>NaN</td>\n",
       "      <td>NaN</td>\n",
       "      <td>Just got sent this photo from Ruby #Alaska as ...</td>\n",
       "      <td>1</td>\n",
       "    </tr>\n",
       "    <tr>\n",
       "      <th>...</th>\n",
       "      <td>...</td>\n",
       "      <td>...</td>\n",
       "      <td>...</td>\n",
       "      <td>...</td>\n",
       "      <td>...</td>\n",
       "    </tr>\n",
       "    <tr>\n",
       "      <th>7608</th>\n",
       "      <td>10869</td>\n",
       "      <td>NaN</td>\n",
       "      <td>NaN</td>\n",
       "      <td>Two giant cranes holding a bridge collapse int...</td>\n",
       "      <td>1</td>\n",
       "    </tr>\n",
       "    <tr>\n",
       "      <th>7609</th>\n",
       "      <td>10870</td>\n",
       "      <td>NaN</td>\n",
       "      <td>NaN</td>\n",
       "      <td>@aria_ahrary @TheTawniest The out of control w...</td>\n",
       "      <td>1</td>\n",
       "    </tr>\n",
       "    <tr>\n",
       "      <th>7610</th>\n",
       "      <td>10871</td>\n",
       "      <td>NaN</td>\n",
       "      <td>NaN</td>\n",
       "      <td>M1.94 [01:04 UTC]?5km S of Volcano Hawaii. htt...</td>\n",
       "      <td>1</td>\n",
       "    </tr>\n",
       "    <tr>\n",
       "      <th>7611</th>\n",
       "      <td>10872</td>\n",
       "      <td>NaN</td>\n",
       "      <td>NaN</td>\n",
       "      <td>Police investigating after an e-bike collided ...</td>\n",
       "      <td>1</td>\n",
       "    </tr>\n",
       "    <tr>\n",
       "      <th>7612</th>\n",
       "      <td>10873</td>\n",
       "      <td>NaN</td>\n",
       "      <td>NaN</td>\n",
       "      <td>The Latest: More Homes Razed by Northern Calif...</td>\n",
       "      <td>1</td>\n",
       "    </tr>\n",
       "  </tbody>\n",
       "</table>\n",
       "<p>7613 rows × 5 columns</p>\n",
       "</div>"
      ],
      "text/plain": [
       "         id keyword location  \\\n",
       "0         1     NaN      NaN   \n",
       "1         4     NaN      NaN   \n",
       "2         5     NaN      NaN   \n",
       "3         6     NaN      NaN   \n",
       "4         7     NaN      NaN   \n",
       "...     ...     ...      ...   \n",
       "7608  10869     NaN      NaN   \n",
       "7609  10870     NaN      NaN   \n",
       "7610  10871     NaN      NaN   \n",
       "7611  10872     NaN      NaN   \n",
       "7612  10873     NaN      NaN   \n",
       "\n",
       "                                                   text  target  \n",
       "0     Our Deeds are the Reason of this #earthquake M...       1  \n",
       "1                Forest fire near La Ronge Sask. Canada       1  \n",
       "2     All residents asked to 'shelter in place' are ...       1  \n",
       "3     13,000 people receive #wildfires evacuation or...       1  \n",
       "4     Just got sent this photo from Ruby #Alaska as ...       1  \n",
       "...                                                 ...     ...  \n",
       "7608  Two giant cranes holding a bridge collapse int...       1  \n",
       "7609  @aria_ahrary @TheTawniest The out of control w...       1  \n",
       "7610  M1.94 [01:04 UTC]?5km S of Volcano Hawaii. htt...       1  \n",
       "7611  Police investigating after an e-bike collided ...       1  \n",
       "7612  The Latest: More Homes Razed by Northern Calif...       1  \n",
       "\n",
       "[7613 rows x 5 columns]"
      ]
     },
     "execution_count": 33,
     "metadata": {},
     "output_type": "execute_result"
    }
   ],
   "source": [
    "train_df = pd.read_csv(\"./data/train.csv\")\n",
    "train_df"
   ]
  },
  {
   "cell_type": "code",
   "execution_count": 34,
   "id": "1881aa8e",
   "metadata": {},
   "outputs": [
    {
     "data": {
      "text/plain": [
       "0    Our Deeds are the Reason of this #earthquake M...\n",
       "1               Forest fire near La Ronge Sask. Canada\n",
       "2    All residents asked to 'shelter in place' are ...\n",
       "3    13,000 people receive #wildfires evacuation or...\n",
       "4    Just got sent this photo from Ruby #Alaska as ...\n",
       "Name: text, dtype: object"
      ]
     },
     "execution_count": 34,
     "metadata": {},
     "output_type": "execute_result"
    }
   ],
   "source": [
    "train_df[train_df['target'] == 1]['text'].head()"
   ]
  },
  {
   "cell_type": "code",
   "execution_count": 35,
   "id": "2b3990d9",
   "metadata": {
    "scrolled": true
   },
   "outputs": [
    {
     "data": {
      "text/plain": [
       "<AxesSubplot:xlabel='target', ylabel='count'>"
      ]
     },
     "execution_count": 35,
     "metadata": {},
     "output_type": "execute_result"
    },
    {
     "data": {
      "image/png": "[encoded data removed]",
      "text/plain": [
       "<Figure size 432x288 with 1 Axes>"
      ]
     },
     "metadata": {
      "needs_background": "light"
     },
     "output_type": "display_data"
    }
   ],
   "source": [
    "sns.countplot(x = 'target', data = train_df)"
   ]
  },
  {
   "cell_type": "markdown",
   "id": "095722ea",
   "metadata": {},
   "source": [
    "Balanced classes"
   ]
  },
  {
   "cell_type": "code",
   "execution_count": 36,
   "id": "3f441ca8",
   "metadata": {},
   "outputs": [
    {
     "name": "stderr",
     "output_type": "stream",
     "text": [
      "[nltk_data] Downloading package punkt to\n",
      "[nltk_data]     C:\\Users\\user\\AppData\\Roaming\\nltk_data...\n",
      "[nltk_data]   Package punkt is already up-to-date!\n"
     ]
    },
    {
     "data": {
      "text/plain": [
       "True"
      ]
     },
     "execution_count": 36,
     "metadata": {},
     "output_type": "execute_result"
    }
   ],
   "source": [
    "nltk.download('punkt')"
   ]
  },
  {
   "cell_type": "code",
   "execution_count": 37,
   "id": "ae4aa20a",
   "metadata": {},
   "outputs": [],
   "source": [
    "def clean_text(text):\n",
    "    text = re.sub('\\d*', '', text)\n",
    "    text = re.sub('http[s]?://(?:[a-zA-Z]|[0-9]|[$-_@.&+]|[!*\\(\\), ]|(?:%[0-9a-fA-F][0-9a-fA-F]))+','', text)\n",
    "    text = re.sub('#', '', text)                                             \n",
    "    text = re.sub('@', '', text)\n",
    "    text = re.sub(',', '', text)\n",
    "    text = re.sub(':', '', text)\n",
    "    text = re.sub('amp', '', text)\n",
    "    #text = re.sub('В‰Г›_', '', text)\n",
    "    text = re.sub('û_', '', text)\n",
    "    return text.lower()"
   ]
  },
  {
   "cell_type": "code",
   "execution_count": 38,
   "id": "739cb374",
   "metadata": {},
   "outputs": [],
   "source": [
    "train_df['text'] = train_df['text'].apply(clean_text)"
   ]
  },
  {
   "cell_type": "code",
   "execution_count": 39,
   "id": "6bb3bccb",
   "metadata": {},
   "outputs": [],
   "source": [
    "def show_rep_words(texts):\n",
    "    d = {}\n",
    "    for text in texts:\n",
    "        tokens = re.findall('\\w+-?\\w*', text)\n",
    "        for token in tokens:\n",
    "            if token not in d.keys():\n",
    "                d[token] = 1\n",
    "            else:\n",
    "                d[token] += 1\n",
    "    sort_keys = sorted(d, key=d.get, reverse=True)\n",
    "    sorted_dict = {}\n",
    "    k = 0\n",
    "    for w in sort_keys:\n",
    "        sorted_dict[w] = d[w]\n",
    "        k += 1\n",
    "        if k > 10:\n",
    "            break\n",
    "    #for i in range(10):\n",
    "     #   print(sorted_dict)\n",
    "    \n",
    "    print(sorted_dict)"
   ]
  },
  {
   "cell_type": "markdown",
   "id": "cd2ad5c9",
   "metadata": {},
   "source": [
    "Showing the freq of words before cleaning from stopwords:"
   ]
  },
  {
   "cell_type": "code",
   "execution_count": 40,
   "id": "d87b02d5",
   "metadata": {},
   "outputs": [
    {
     "name": "stdout",
     "output_type": "stream",
     "text": [
      "{'the': 1895, 'i': 1388, 'a': 1256, 'to': 1176, 'and': 896, 'of': 887, 'in': 814, 'you': 755, 'is': 592, 's': 544, 'my': 544}\n"
     ]
    }
   ],
   "source": [
    "show_rep_words(train_df[train_df['target'] == 0]['text'])  # 0 class"
   ]
  },
  {
   "cell_type": "code",
   "execution_count": 41,
   "id": "3e041e49",
   "metadata": {
    "scrolled": true
   },
   "outputs": [
    {
     "name": "stdout",
     "output_type": "stream",
     "text": [
      "{'the': 1342, 'in': 1141, 'a': 924, 'of': 918, 'to': 747, 'and': 493, 'on': 414, 'for': 391, 'i': 381, 's': 364, 'is': 348}\n"
     ]
    }
   ],
   "source": [
    "show_rep_words(train_df[train_df['target'] == 1]['text'])  # 1 class"
   ]
  },
  {
   "cell_type": "markdown",
   "id": "db696d15",
   "metadata": {},
   "source": [
    "Cleaning from stopwords"
   ]
  },
  {
   "cell_type": "code",
   "execution_count": 42,
   "id": "b2cfe17c",
   "metadata": {},
   "outputs": [
    {
     "name": "stderr",
     "output_type": "stream",
     "text": [
      "[nltk_data] Downloading package stopwords to\n",
      "[nltk_data]     C:\\Users\\user\\AppData\\Roaming\\nltk_data...\n",
      "[nltk_data]   Package stopwords is already up-to-date!\n"
     ]
    }
   ],
   "source": [
    "nltk.download('stopwords')\n",
    "stopwords = list(stopwords.words('english'))"
   ]
  },
  {
   "cell_type": "code",
   "execution_count": 43,
   "id": "61043d3d",
   "metadata": {},
   "outputs": [],
   "source": [
    "def filter_stopwords(text):\n",
    "    tokens = re.findall('\\w+-?\\w*', text) \n",
    "    text = ' '.join([token for token in tokens if (token not in stopwords) & (token.isalpha())])\n",
    "    return text\n",
    "      "
   ]
  },
  {
   "cell_type": "code",
   "execution_count": 44,
   "id": "4c603085",
   "metadata": {},
   "outputs": [],
   "source": [
    "train_df['text'] = train_df['text'].apply(filter_stopwords)"
   ]
  },
  {
   "cell_type": "markdown",
   "id": "c2d64212",
   "metadata": {},
   "source": [
    "Showing the freq of words again after cleaning from stopwords:"
   ]
  },
  {
   "cell_type": "code",
   "execution_count": 45,
   "id": "f9c9b1d9",
   "metadata": {},
   "outputs": [
    {
     "name": "stdout",
     "output_type": "stream",
     "text": [
      "{'like': 253, 'new': 163, 'get': 163, 'one': 128, 'body': 112, 'would': 101, 'people': 94, 'love': 89, 'know': 85, 'got': 85, 'back': 82}\n"
     ]
    }
   ],
   "source": [
    "show_rep_words(train_df[train_df['target'] == 0]['text'])  # 0 class"
   ]
  },
  {
   "cell_type": "code",
   "execution_count": 46,
   "id": "ea9f4929",
   "metadata": {},
   "outputs": [
    {
     "name": "stdout",
     "output_type": "stream",
     "text": [
      "{'fire': 179, 'news': 139, 'disaster': 120, 'california': 114, 'suicide': 109, 'police': 107, 'people': 105, 'like': 93, 'hiroshima': 92, 'killed': 87, 'storm': 87}\n"
     ]
    }
   ],
   "source": [
    "show_rep_words(train_df[train_df['target'] == 1]['text'])  # 1 class"
   ]
  },
  {
   "cell_type": "markdown",
   "id": "5e46f257",
   "metadata": {},
   "source": [
    "Стемминг"
   ]
  },
  {
   "cell_type": "code",
   "execution_count": 47,
   "id": "95a2f1dd",
   "metadata": {},
   "outputs": [],
   "source": [
    "stemmer = PorterStemmer()\n",
    "def stemming(text):\n",
    "    tokens = re.findall('\\w+-?\\w*', text)\n",
    "    text = ' '.join([stemmer.stem(token) for token in tokens])\n",
    "    return text"
   ]
  },
  {
   "cell_type": "code",
   "execution_count": 48,
   "id": "f7b742ad",
   "metadata": {},
   "outputs": [
    {
     "data": {
      "text/plain": [
       "0            deed reason earthquak may allah forgiv us\n",
       "1                 forest fire near la rong sask canada\n",
       "2    resid ask shelter place notifi offic evacu she...\n",
       "3          peopl receiv wildfir evacu order california\n",
       "4    got sent photo rubi alaska smoke wildfir pour ...\n",
       "Name: text, dtype: object"
      ]
     },
     "execution_count": 48,
     "metadata": {},
     "output_type": "execute_result"
    }
   ],
   "source": [
    "train_df['text'] = train_df['text'].apply(stemming)\n",
    "train_df['text'].head()"
   ]
  },
  {
   "cell_type": "markdown",
   "id": "c1889a5e",
   "metadata": {},
   "source": [
    "Split data into train-val-test:"
   ]
  },
  {
   "cell_type": "code",
   "execution_count": 49,
   "id": "95992b4a",
   "metadata": {},
   "outputs": [],
   "source": [
    "X_train, X_val, y_train, y_val = train_test_split(train_df, train_df.target, train_size = 0.8, random_state=42)\n",
    "X_train, X_test, y_train, y_test = train_test_split(X_train, X_train.target, train_size = 0.8, random_state=42)"
   ]
  },
  {
   "cell_type": "code",
   "execution_count": 50,
   "id": "a9823a2b",
   "metadata": {},
   "outputs": [],
   "source": [
    "word_vectorizer = TfidfVectorizer(analyzer='word', ngram_range=(1, 1), max_features=100000) "
   ]
  },
  {
   "cell_type": "code",
   "execution_count": 51,
   "id": "72fa5acd",
   "metadata": {},
   "outputs": [],
   "source": [
    "word_vectorizer.fit(X_train['text'])\n",
    "train_w_features = word_vectorizer.transform(X_train['text'])\n",
    "val_w_features = word_vectorizer.transform(X_val['text'])\n",
    "test_w_features = word_vectorizer.transform(X_test['text']) "
   ]
  },
  {
   "cell_type": "markdown",
   "id": "e04517ef",
   "metadata": {},
   "source": [
    "Choosing the best parameter:C:[1e-4, 1e-2, 1, 10, 100]"
   ]
  },
  {
   "cell_type": "code",
   "execution_count": 52,
   "id": "42f17ad4",
   "metadata": {},
   "outputs": [
    {
     "name": "stdout",
     "output_type": "stream",
     "text": [
      "0.7939176793348368\n",
      "{'C': 1}\n"
     ]
    }
   ],
   "source": [
    "grid={'C':[1e-4, 1e-2, 1, 10, 100]}\n",
    "logreg=LogisticRegression(max_iter=5000)\n",
    "logreg_cv=GridSearchCV(logreg,grid,cv=10, scoring='accuracy')\n",
    "logreg_cv.fit(train_w_features, y_train)\n",
    "preds = logreg_cv.predict(val_w_features)\n",
    "print(logreg_cv.best_score_)\n",
    "print(logreg_cv.best_params_)"
   ]
  },
  {
   "cell_type": "markdown",
   "id": "fb0c6612",
   "metadata": {},
   "source": [
    "Test:"
   ]
  },
  {
   "cell_type": "code",
   "execution_count": 53,
   "id": "dd948d95",
   "metadata": {},
   "outputs": [
    {
     "name": "stdout",
     "output_type": "stream",
     "text": [
      "              precision    recall  f1-score   support\n",
      "\n",
      "           0       0.79      0.89      0.84       703\n",
      "           1       0.83      0.68      0.75       515\n",
      "\n",
      "    accuracy                           0.80      1218\n",
      "   macro avg       0.81      0.79      0.79      1218\n",
      "weighted avg       0.81      0.80      0.80      1218\n",
      "\n"
     ]
    }
   ],
   "source": [
    "logreg = LogisticRegression(C=1, solver='sag')               \n",
    "logreg.fit(train_w_features, y_train)\n",
    "preds = logreg.predict(test_w_features)\n",
    "print(classification_report(y_test, preds))"
   ]
  },
  {
   "cell_type": "markdown",
   "id": "28254cad",
   "metadata": {},
   "source": [
    "Cross-validation:"
   ]
  },
  {
   "cell_type": "code",
   "execution_count": 55,
   "id": "94232a1c",
   "metadata": {},
   "outputs": [
    {
     "data": {
      "text/plain": [
       "0.7894059916811458"
      ]
     },
     "execution_count": 55,
     "metadata": {},
     "output_type": "execute_result"
    }
   ],
   "source": [
    "scores = cross_val_score(logreg, train_w_features, y_train, cv=5, scoring='accuracy') #кросс-вал на тренировочном наборе\n",
    "scores.mean()"
   ]
  },
  {
   "cell_type": "code",
   "execution_count": 59,
   "id": "ad3d288b",
   "metadata": {},
   "outputs": [
    {
     "name": "stdout",
     "output_type": "stream",
     "text": [
      "              precision    recall  f1-score   support\n",
      "\n",
      "           0       0.85      0.96      0.90       703\n",
      "           1       0.94      0.76      0.84       515\n",
      "\n",
      "    accuracy                           0.88      1218\n",
      "   macro avg       0.89      0.86      0.87      1218\n",
      "weighted avg       0.89      0.88      0.88      1218\n",
      "\n"
     ]
    }
   ],
   "source": [
    "#обучение на всем трэйне\n",
    "word_vectorizer.fit(train_df['text'])\n",
    "train_df_w_features = word_vectorizer.transform(train_df['text'])\n",
    "test_features = word_vectorizer.transform(X_test['text'])\n",
    "logreg = LogisticRegression(C=1, solver='sag') # лучшие параметры(выбраны выше)\n",
    "logreg.fit(train_df_w_features, train_df.target)\n",
    "preds = logreg.predict(test_features) # проверка на тесте\n",
    "print(classification_report(y_test, preds))"
   ]
  },
  {
   "cell_type": "code",
   "execution_count": null,
   "id": "d379226e",
   "metadata": {},
   "outputs": [],
   "source": []
  }
 ],
 "metadata": {
  "kernelspec": {
   "display_name": "Python 3 (ipykernel)",
   "language": "python",
   "name": "python3"
  },
  "language_info": {
   "codemirror_mode": {
    "name": "ipython",
    "version": 3
   },
   "file_extension": ".py",
   "mimetype": "text/x-python",
   "name": "python",
   "nbconvert_exporter": "python",
   "pygments_lexer": "ipython3",
   "version": "3.7.6"
  }
 },
 "nbformat": 4,
 "nbformat_minor": 5
}
